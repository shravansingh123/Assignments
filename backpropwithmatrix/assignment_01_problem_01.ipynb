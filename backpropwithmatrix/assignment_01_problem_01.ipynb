{
 "cells": [
  {
   "cell_type": "markdown",
   "metadata": {},
   "source": [
    "<h4 align=\"right\">by <a href=\"http://cse.iitkgp.ac.in/~adas/\">Abir Das</a> with help of <br> Ram Rakesh and Ankit Singh<br> </h4>"
   ]
  },
  {
   "cell_type": "markdown",
   "metadata": {},
   "source": [
    "### Write the following details here\n",
    "** Name: ** `<shravan kumar singh>`<br/>\n",
    "** Roll Number: ** `<18cs92r07>`<br/>\n",
    "** Department: ** `<computer science and engineering>`<br/>\n",
    "** Email: ** `<shan.icwa@gmail.com>`"
   ]
  },
  {
   "cell_type": "markdown",
   "metadata": {},
   "source": [
    "# Problem Set 1 "
   ]
  },
  {
   "cell_type": "markdown",
   "metadata": {},
   "source": [
    "## Preamble\n",
    "\n",
    "To run and solve this assignment, one must have a working IPython Notebook installation. The easiest way to set it up for both Windows and Linux is to install [Anaconda](https://www.continuum.io/downloads). Then save this file ([`assignment_01.ipynb`]()) to your computer, run Anaconda and choose this file in Anaconda's file explorer. Use `Python 3` version. Below statements assume that you have already followed these instructions. If you are new to Python or its scientific library, Numpy, there are some nice tutorials [here](https://www.learnpython.org/) and [here](http://www.scipy-lectures.org/)."
   ]
  },
  {
   "cell_type": "markdown",
   "metadata": {},
   "source": [
    "### Problem: You will implement the perceptron algorithm in this problem\n",
    "We marked places where you are expected to add/change your own code with **`##### write your code below #####`** comment."
   ]
  },
  {
   "cell_type": "code",
   "execution_count": 1,
   "metadata": {},
   "outputs": [],
   "source": [
    "# Import the libraries\n",
    "%matplotlib inline\n",
    "import matplotlib.pyplot as plt\n",
    "import numpy as np"
   ]
  },
  {
   "cell_type": "code",
   "execution_count": 4,
   "metadata": {},
   "outputs": [
    {
     "name": "stdout",
     "output_type": "stream",
     "text": [
      "[[-9.82050e+00  6.66100e+00]\n",
      " [ 2.24050e+00  3.61450e+00]\n",
      " [ 5.95000e-01  6.44020e+00]\n",
      " [ 2.56440e+00 -1.01175e+01]\n",
      " [ 6.11840e+00 -1.95830e+00]\n",
      " [-7.88320e+00  2.70000e-03]\n",
      " [ 2.00000e+00 -4.00000e+00]\n",
      " [ 2.48750e+00  4.65180e+00]\n",
      " [-4.60080e+00  1.24886e+01]\n",
      " [-3.25080e+00  9.83780e+00]\n",
      " [ 2.60280e+00  4.35510e+00]\n",
      " [ 9.92800e-01 -4.26040e+00]\n",
      " [ 1.86070e+00 -5.91870e+00]\n",
      " [-5.54120e+00 -5.39400e-01]\n",
      " [ 5.89400e-01  2.94960e+00]\n",
      " [-4.24040e+00  1.01937e+01]\n",
      " [ 5.38000e+00 -1.70360e+00]\n",
      " [-3.00000e+00  5.00000e+00]\n",
      " [-8.72830e+00  2.24680e+00]\n",
      " [-8.22870e+00  8.98800e-01]\n",
      " [-8.43360e+00  1.29460e+00]\n",
      " [ 2.75900e+00  1.07840e+00]\n",
      " [ 2.95310e+00 -6.96800e+00]\n",
      " [ 6.14520e+00 -7.75100e-01]\n",
      " [ 2.74120e+00  5.12910e+00]\n",
      " [-2.00940e+00 -3.50320e+00]\n",
      " [-1.57710e+00 -1.67370e+00]\n",
      " [ 3.15970e+00  4.76800e-01]\n",
      " [-6.58130e+00 -9.90200e-01]\n",
      " [-3.25870e+00  8.18830e+00]\n",
      " [-4.44870e+00  1.32250e+00]\n",
      " [ 1.68230e+00  6.21720e+00]\n",
      " [ 4.85780e+00 -2.03500e-01]\n",
      " [-8.82890e+00  1.35170e+00]\n",
      " [-7.82300e+00  4.39500e+00]\n",
      " [-2.31230e+00 -4.26880e+00]\n",
      " [-3.30790e+00  8.73990e+00]\n",
      " [-1.98770e+00 -1.15380e+00]\n",
      " [-7.69890e+00  3.05400e-01]\n",
      " [-9.80900e-01  4.16800e+00]]\n",
      "[-1.  1.  1. -1.  1. -1. -1.  1.  1.  1.  1. -1. -1. -1.  1.  1.  1.  1.\n",
      " -1. -1. -1.  1. -1.  1.  1. -1. -1.  1. -1.  1. -1.  1.  1. -1. -1. -1.\n",
      "  1. -1. -1.  1.]\n"
     ]
    }
   ],
   "source": [
    "# Read training data from data_prob_01.txt and store in a numpy array called 'x'.\n",
    "# As 40 data points are present, 'x' will be a 40x2 array where each row is one data point.\n",
    "# Store the labels in 'y'. It will be 40 length numpy array.\n",
    "# Each data is two dimensional and labels are +1 for the positive class while -1\n",
    "# for the negative class\n",
    "fileName=\"./data/data_prob_01.txt\"\n",
    "with open(fileName) as file:\n",
    "    lines =  [line.split() for line in file ]\n",
    "data = np.array(lines,dtype='float32')\n",
    "X = data[:,:2]\n",
    "y = data[:,-1]\n",
    "print(X)\n",
    "print (y)"
   ]
  },
  {
   "cell_type": "code",
   "execution_count": 6,
   "metadata": {},
   "outputs": [
    {
     "name": "stdout",
     "output_type": "stream",
     "text": [
      "[10.65600038  7.39370012]\n"
     ]
    }
   ],
   "source": [
    "# Initialize weight\n",
    "w = np.array([0.0, 0.0]) #\n",
    "# while no examples are misclassified run the perceptron algorithm (refer to the slides for the algorithm)\n",
    "########################## write your code below ##############################################\n",
    "status=1\n",
    "while(status==1):\n",
    "    status=0\n",
    "    for i in range(len(X)):\n",
    "        if(y[i]==1 and np.inner(w,X[i])<0):\n",
    "            w=w+X[i]\n",
    "            status=1\n",
    "        elif(y[i]==-1 and np.inner(w,X[i])>=0):\n",
    "            w=w-X[i]\n",
    "            status=1\n",
    "print(w)        \n",
    "# Finally w contains the trained weights\n",
    "###############################################################################################"
   ]
  },
  {
   "cell_type": "markdown",
   "metadata": {},
   "source": [
    "### Scatter plot the data points and plot the straight line given by the trained weights w"
   ]
  },
  {
   "cell_type": "code",
   "execution_count": 7,
   "metadata": {},
   "outputs": [
    {
     "data": {
      "image/png": "[encoded data removed]",
      "text/plain": [
       "<Figure size 720x720 with 1 Axes>"
      ]
     },
     "metadata": {
      "needs_background": "light"
     },
     "output_type": "display_data"
    }
   ],
   "source": [
    "epsilon=1e-18\n",
    "indexes_with_class1 = y==1\n",
    "plt.figure(figsize=(10,10))\n",
    "plt.scatter(X[indexes_with_class1][:,0],X[indexes_with_class1][:,1], color='r', marker='P')\n",
    "plt.scatter(X[~indexes_with_class1][:,0],X[~indexes_with_class1][:,1], color='g', marker='o')\n",
    "plt.grid()\n",
    "\n",
    "# weightplot\n",
    "plt.xlim(-12,12)\n",
    "plt.ylim(-12,12)\n",
    "slope = (-w[0])/(w[1]+epsilon) # to ensure no division by zero\n",
    "xx = np.linspace(-15, 15)\n",
    "yy = slope * xx\n",
    "plt.plot(xx,yy,color='k', linestyle='-', linewidth=2)\n",
    "plt.show()"
   ]
  },
  {
   "cell_type": "code",
   "execution_count": null,
   "metadata": {},
   "outputs": [],
   "source": []
  }
 ],
 "metadata": {
  "kernelspec": {
   "display_name": "Python 3",
   "language": "python",
   "name": "python3"
  },
  "language_info": {
   "codemirror_mode": {
    "name": "ipython",
    "version": 3
   },
   "file_extension": ".py",
   "mimetype": "text/x-python",
   "name": "python",
   "nbconvert_exporter": "python",
   "pygments_lexer": "ipython3",
   "version": "3.7.1"
  }
 },
 "nbformat": 4,
 "nbformat_minor": 2
}
