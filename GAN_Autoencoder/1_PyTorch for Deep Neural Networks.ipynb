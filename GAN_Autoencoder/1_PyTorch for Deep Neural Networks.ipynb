{
 "cells": [
  {
   "cell_type": "markdown",
   "metadata": {},
   "source": [
    "# AI61002\n",
    "# Tutorial 1 : PyTorch for Deep Neural Networks\n",
    "### 18 January 2019\n",
    "\n",
    "## Follow instructions given in the PyTorch [website](http://pytorch.org/) for installation"
   ]
  },
  {
   "cell_type": "markdown",
   "metadata": {},
   "source": [
    "### Tensor initialization and slicing"
   ]
  },
  {
   "cell_type": "code",
   "execution_count": 1,
   "metadata": {},
   "outputs": [],
   "source": [
    "# Importing the library\n",
    "import torch"
   ]
  },
  {
   "cell_type": "code",
   "execution_count": 2,
   "metadata": {},
   "outputs": [
    {
     "name": "stdout",
     "output_type": "stream",
     "text": [
      "tensor([2, 2]) tensor([[0.9946, 0.2483],\n",
      "        [0.9916, 0.4194]])\n"
     ]
    }
   ],
   "source": [
    "# Defining tensors\n",
    "x = torch.tensor((2,2)) # Initialized with specific values\n",
    "y = torch.rand(2,2) # Random initialization\n",
    "print(x,y)"
   ]
  },
  {
   "cell_type": "code",
   "execution_count": 3,
   "metadata": {},
   "outputs": [
    {
     "name": "stdout",
     "output_type": "stream",
     "text": [
      "torch.Size([2])\n"
     ]
    }
   ],
   "source": [
    "# Obtaining size of tensors\n",
    "print(x.size())"
   ]
  },
  {
   "cell_type": "code",
   "execution_count": 4,
   "metadata": {},
   "outputs": [
    {
     "name": "stdout",
     "output_type": "stream",
     "text": [
      "tensor([[0.9946, 0.2483],\n",
      "        [0.9916, 0.4194]]) tensor([[0.8626, 0.4745],\n",
      "        [0.7275, 0.6230]]) tensor([[1.8573, 0.7228],\n",
      "        [1.7192, 1.0424]])\n",
      "tensor([[0.8626, 0.4745],\n",
      "        [0.7275, 0.6230]]) tensor([[1.7252, 0.9490],\n",
      "        [1.4550, 1.2459]])\n"
     ]
    }
   ],
   "source": [
    "# Arithmetic operations\n",
    "z = torch.rand(2,2)\n",
    "print(y,z,y+z)\n",
    "print(z,2*z)"
   ]
  },
  {
   "cell_type": "code",
   "execution_count": 5,
   "metadata": {},
   "outputs": [
    {
     "name": "stdout",
     "output_type": "stream",
     "text": [
      "tensor([[0.9946, 0.2483],\n",
      "        [0.9916, 0.4194]])\n",
      "tensor(0.4194)\n",
      "tensor([0.9946, 0.9916])\n"
     ]
    }
   ],
   "source": [
    "# Indexing is similar to numpy indexing\n",
    "print(y)\n",
    "print(y[1,1])\n",
    "print(y[:,0])"
   ]
  },
  {
   "cell_type": "code",
   "execution_count": 6,
   "metadata": {},
   "outputs": [
    {
     "name": "stdout",
     "output_type": "stream",
     "text": [
      "<class 'torch.Tensor'>\n",
      "<class 'numpy.ndarray'>\n"
     ]
    }
   ],
   "source": [
    "# Converting to numpy\n",
    "y_np = y.numpy()\n",
    "print(type(y))\n",
    "print(type(y_np))"
   ]
  },
  {
   "cell_type": "code",
   "execution_count": 7,
   "metadata": {},
   "outputs": [
    {
     "name": "stdout",
     "output_type": "stream",
     "text": [
      "[[1. 1. 1.]\n",
      " [1. 1. 1.]\n",
      " [1. 1. 1.]] tensor([[1., 1., 1.],\n",
      "        [1., 1., 1.],\n",
      "        [1., 1., 1.]], dtype=torch.float64)\n"
     ]
    }
   ],
   "source": [
    "import numpy as np\n",
    "# Converting from numpy to tensor\n",
    "x_np = np.ones((3,3))\n",
    "x_py = torch.from_numpy(x_np)\n",
    "print(x_np,x_py)"
   ]
  },
  {
   "cell_type": "code",
   "execution_count": 8,
   "metadata": {},
   "outputs": [
    {
     "name": "stdout",
     "output_type": "stream",
     "text": [
      "CPU computation completed in 0.000000s, GPU computation completed in 0.003231s\n"
     ]
    }
   ],
   "source": [
    "# Improving computational time with GPU acceleration\n",
    "import time\n",
    "use_gpu = torch.cuda.is_available()\n",
    "x = torch.randn(10000,10000)\n",
    "if use_gpu:\n",
    "    x = torch.randn(100,100)\n",
    "    cpuStart = time.time()\n",
    "    y = x*x\n",
    "    cpuEnd = time.time()-cpuStart\n",
    "    x = x.cuda()\n",
    "    gpuStart = time.time()\n",
    "    y = x*x\n",
    "    gpuEnd = time.time()-gpuStart\n",
    "    print('CPU computation completed in {:.6f}s, GPU computation completed in {:.6f}s'\\\n",
    "          .format(cpuEnd,gpuEnd))    \n",
    "    "
   ]
  },
  {
   "cell_type": "markdown",
   "metadata": {},
   "source": [
    "### Autograd\n",
    " This package provides automatic differentiation for all operations on Tensors"
   ]
  },
  {
   "cell_type": "code",
   "execution_count": 9,
   "metadata": {},
   "outputs": [
    {
     "name": "stdout",
     "output_type": "stream",
     "text": [
      "tensor([[1., 1.],\n",
      "        [1., 1.]])\n",
      "tensor([[1., 1.],\n",
      "        [1., 1.]], requires_grad=True)\n"
     ]
    }
   ],
   "source": [
    "from torch.autograd import Variable\n",
    "a = torch.ones(2,2)\n",
    "a_var = Variable(a,requires_grad=True)\n",
    "print(a)\n",
    "print(a_var)"
   ]
  },
  {
   "cell_type": "code",
   "execution_count": 10,
   "metadata": {},
   "outputs": [
    {
     "name": "stdout",
     "output_type": "stream",
     "text": [
      "tensor([[3., 3.],\n",
      "        [3., 3.]], grad_fn=<AddBackward0>)\n"
     ]
    }
   ],
   "source": [
    "b = a_var+2\n",
    "print(b)"
   ]
  },
  {
   "cell_type": "code",
   "execution_count": 11,
   "metadata": {},
   "outputs": [
    {
     "name": "stdout",
     "output_type": "stream",
     "text": [
      "<AddBackward0 object at 0x000001AE1ECB6390>\n"
     ]
    }
   ],
   "source": [
    "print(b.grad_fn)"
   ]
  },
  {
   "cell_type": "code",
   "execution_count": 12,
   "metadata": {},
   "outputs": [
    {
     "name": "stdout",
     "output_type": "stream",
     "text": [
      "tensor([[27., 27.],\n",
      "        [27., 27.]], grad_fn=<MulBackward0>)\n",
      "tensor(27., grad_fn=<MeanBackward1>)\n"
     ]
    }
   ],
   "source": [
    "c = b*b*3\n",
    "d = c.mean()\n",
    "print(c)\n",
    "print(d)"
   ]
  },
  {
   "cell_type": "code",
   "execution_count": 13,
   "metadata": {},
   "outputs": [],
   "source": [
    "d.backward()"
   ]
  },
  {
   "cell_type": "code",
   "execution_count": 14,
   "metadata": {},
   "outputs": [
    {
     "name": "stdout",
     "output_type": "stream",
     "text": [
      "tensor([[4.5000, 4.5000],\n",
      "        [4.5000, 4.5000]])\n"
     ]
    }
   ],
   "source": [
    "# Gradients\n",
    "print(a_var.grad)"
   ]
  },
  {
   "cell_type": "markdown",
   "metadata": {},
   "source": [
    "### Torchvision datasets"
   ]
  },
  {
   "cell_type": "code",
   "execution_count": 15,
   "metadata": {},
   "outputs": [],
   "source": [
    "%matplotlib inline\n",
    "import torch\n",
    "from torchvision import datasets,transforms\n",
    "import matplotlib.pyplot as plt"
   ]
  },
  {
   "cell_type": "code",
   "execution_count": 16,
   "metadata": {},
   "outputs": [],
   "source": [
    "apply_transform = transforms.Compose([transforms.ToTensor()])\n",
    "trainDset = datasets.MNIST('./MNIST',train=True, download=True, transform= apply_transform)\n",
    "testDset = datasets.MNIST('./MNIST',train=False, download=True, transform= apply_transform)"
   ]
  },
  {
   "cell_type": "code",
   "execution_count": 17,
   "metadata": {},
   "outputs": [
    {
     "name": "stdout",
     "output_type": "stream",
     "text": [
      "60000 10000\n"
     ]
    }
   ],
   "source": [
    "# Number of samples\n",
    "print(len(trainDset),len(testDset))"
   ]
  },
  {
   "cell_type": "code",
   "execution_count": 18,
   "metadata": {},
   "outputs": [
    {
     "name": "stdout",
     "output_type": "stream",
     "text": [
      "Label: tensor(5)\n"
     ]
    },
    {
     "data": {
      "image/png": "[encoded data removed]",
      "text/plain": [
       "<Figure size 432x288 with 1 Axes>"
      ]
     },
     "metadata": {
      "needs_background": "light"
     },
     "output_type": "display_data"
    }
   ],
   "source": [
    "# Displaying sample image from the dataset\n",
    "img = trainDset[0][0].numpy().transpose(1,2,0).squeeze(2)\n",
    "plt.imshow(img,'gray')\n",
    "print('Label: '+str(trainDset[0][1]))"
   ]
  },
  {
   "cell_type": "code",
   "execution_count": 19,
   "metadata": {},
   "outputs": [],
   "source": [
    "# Creating dataloader for loading data in batches\n",
    "trainLoader = torch.utils.data.DataLoader(trainDset, batch_size=10, shuffle=True, num_workers=1, pin_memory=False)\n",
    "testLoader = torch.utils.data.DataLoader(testDset, batch_size=10, shuffle=True, num_workers=1, pin_memory=False)"
   ]
  },
  {
   "cell_type": "markdown",
   "metadata": {},
   "source": [
    "### Defining a multi-layer perceptron"
   ]
  },
  {
   "cell_type": "code",
   "execution_count": 20,
   "metadata": {},
   "outputs": [],
   "source": [
    "import torch.nn.functional as F\n",
    "import torch.nn as nn\n",
    "class MLP(nn.Module):\n",
    "    def __init__(self):\n",
    "        super(MLP, self).__init__()\n",
    "        self.fc1 = nn.Linear(28*28,100)\n",
    "        self.fc2 = nn.Linear(100,10)\n",
    "    def forward(self, x):\n",
    "        x = self.fc1(x)\n",
    "        x = torch.sigmoid(x)\n",
    "        x = self.fc2(x)\n",
    "        x = F.log_softmax(x,dim=1)\n",
    "        return x"
   ]
  },
  {
   "cell_type": "code",
   "execution_count": 21,
   "metadata": {},
   "outputs": [
    {
     "name": "stdout",
     "output_type": "stream",
     "text": [
      "MLP(\n",
      "  (fc1): Linear(in_features=784, out_features=100, bias=True)\n",
      "  (fc2): Linear(in_features=100, out_features=10, bias=True)\n",
      ")\n"
     ]
    }
   ],
   "source": [
    "net = MLP()\n",
    "print(net)"
   ]
  },
  {
   "cell_type": "code",
   "execution_count": 22,
   "metadata": {},
   "outputs": [
    {
     "name": "stdout",
     "output_type": "stream",
     "text": [
      "Dimensions of first layer weights: torch.Size([100, 784])\n",
      "Dimensions of first layer bias: torch.Size([100])\n",
      "torch.Size([100, 784])\n",
      "torch.Size([100])\n",
      "torch.Size([10, 100])\n",
      "torch.Size([10])\n",
      "Total number of parameters: 79510\n"
     ]
    }
   ],
   "source": [
    "params = list(net.parameters())\n",
    "# print('No. of parameters :'+str(len(params)))\n",
    "print('Dimensions of first layer weights: '+str(params[0].size())) # Weights of fc1\n",
    "print('Dimensions of first layer bias: '+str(params[1].size())) # Biases of fc1\n",
    "\n",
    "totalParams = 0\n",
    "for param in params:    \n",
    "    print(param.size())\n",
    "    totalParams += np.sum(np.prod(param.size()))\n",
    "print('Total number of parameters: '+str(totalParams))"
   ]
  },
  {
   "cell_type": "code",
   "execution_count": 23,
   "metadata": {},
   "outputs": [],
   "source": [
    "inp = trainLoader.dataset[0][0]\n",
    "label = trainLoader.dataset[0][1]"
   ]
  },
  {
   "cell_type": "code",
   "execution_count": 24,
   "metadata": {},
   "outputs": [
    {
     "name": "stdout",
     "output_type": "stream",
     "text": [
      "torch.Size([1, 28, 28])\n",
      "torch.Size([1, 10])\n",
      "tensor([[-2.2969, -2.4583, -2.4748, -3.0515, -1.9328, -2.4676, -2.2363, -2.4007,\n",
      "         -2.0870, -2.0305]], grad_fn=<LogSoftmaxBackward>)\n"
     ]
    }
   ],
   "source": [
    "from torch.autograd import Variable\n",
    "# Feed-forward data through network\n",
    "out = net(Variable(inp.view(-1,28*28)))\n",
    "print(inp.size())\n",
    "print(out.size())\n",
    "print(out)"
   ]
  },
  {
   "cell_type": "code",
   "execution_count": 25,
   "metadata": {},
   "outputs": [],
   "source": [
    "# Backpropagating gradients\n",
    "net.zero_grad()\n",
    "out.backward(torch.randn(1, 10)) # Using random gradients"
   ]
  },
  {
   "cell_type": "code",
   "execution_count": 26,
   "metadata": {},
   "outputs": [
    {
     "name": "stdout",
     "output_type": "stream",
     "text": [
      "tensor(2.4676, grad_fn=<NllLossBackward>)\n"
     ]
    }
   ],
   "source": [
    "out = net(Variable(inp.view(-1,28*28)))\n",
    "# Defining loss function\n",
    "criterion = nn.NLLLoss() # Negative log-likelihood loss\n",
    "label = label*torch.ones(1).long() # Converting to tensor\n",
    "loss = criterion(out,Variable(label)) # NLLLoss() expects the labels to be of dtype 'long'\n",
    "print(loss)"
   ]
  },
  {
   "cell_type": "code",
   "execution_count": 27,
   "metadata": {},
   "outputs": [
    {
     "name": "stdout",
     "output_type": "stream",
     "text": [
      "Bias gradient of fc1 before backward\n",
      "tensor([0., 0., 0., 0., 0., 0., 0., 0., 0., 0.])\n",
      "Bias gradient of fc1 after backward\n",
      "tensor([-0.0088,  0.0109, -0.0122,  0.0081,  0.0102,  0.0138,  0.0034,  0.0027,\n",
      "         0.0268,  0.0090])\n"
     ]
    }
   ],
   "source": [
    "# Backprogattion\n",
    "net.zero_grad()     # zeroes the gradient buffers of all parameters\n",
    "\n",
    "print('Bias gradient of fc1 before backward')\n",
    "print(net.fc1.bias.grad[:10])\n",
    "\n",
    "loss.backward()\n",
    "\n",
    "print('Bias gradient of fc1 after backward')\n",
    "print(net.fc1.bias.grad[:10])"
   ]
  },
  {
   "cell_type": "code",
   "execution_count": 28,
   "metadata": {},
   "outputs": [
    {
     "name": "stdout",
     "output_type": "stream",
     "text": [
      "tensor([-0.0562,  0.0800,  0.0225,  0.0769,  0.0752])\n",
      "tensor([-0.1016,  0.0240, -0.0299,  0.0293,  0.0277])\n"
     ]
    }
   ],
   "source": [
    "import copy\n",
    "# Updataing weights of the network\n",
    "learning_rate = 1\n",
    "init_params = copy.deepcopy(net.fc2.weight.data) # Copying initial parameters\n",
    "\n",
    "for f in net.parameters():    \n",
    "    f.data.sub_(f.grad.data * learning_rate)\n",
    "updated_params = net.fc2.weight.data\n",
    "print(init_params[0,:5])\n",
    "print(updated_params[0,:5])\n",
    "   "
   ]
  },
  {
   "cell_type": "code",
   "execution_count": null,
   "metadata": {},
   "outputs": [],
   "source": []
  }
 ],
 "metadata": {
  "kernelspec": {
   "display_name": "Python 3",
   "language": "python",
   "name": "python3"
  },
  "language_info": {
   "codemirror_mode": {
    "name": "ipython",
    "version": 3
   },
   "file_extension": ".py",
   "mimetype": "text/x-python",
   "name": "python",
   "nbconvert_exporter": "python",
   "pygments_lexer": "ipython3",
   "version": "3.7.1"
  }
 },
 "nbformat": 4,
 "nbformat_minor": 2
}
